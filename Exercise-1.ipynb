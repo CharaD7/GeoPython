{
 "cells": [
  {
   "cell_type": "code",
   "execution_count": 1,
   "id": "e3f6d047-67b1-4a3e-a77c-6b20076d056b",
   "metadata": {},
   "outputs": [],
   "source": [
    "ice_cream_rating = 8\n",
    "sleeping_rating = 7"
   ]
  },
  {
   "cell_type": "code",
   "execution_count": 2,
   "id": "1f2b6d43-f975-4ffa-92c4-ec9ed2aee82d",
   "metadata": {},
   "outputs": [],
   "source": [
    "first_name = 'Chara'\n",
    "last_name = 'Block'\n",
    "my_name = first_name + ' ' + last_name\n",
    "\n",
    "# my_name = first_name, last_name"
   ]
  },
  {
   "cell_type": "code",
   "execution_count": 5,
   "id": "e68a3c72-8230-4eb1-b8da-834b7f3270ee",
   "metadata": {},
   "outputs": [],
   "source": [
    "happiness_rating = ( ice_cream_rating + sleeping_rating ) / 2"
   ]
  },
  {
   "cell_type": "code",
   "execution_count": 6,
   "id": "c83cc258-6a43-434e-b78e-ce5cbd86dc44",
   "metadata": {},
   "outputs": [
    {
     "name": "stdout",
     "output_type": "stream",
     "text": [
      "Ice cream rating variable is of type <class 'int'>\n",
      "Sleeping rating variable is of type <class 'int'>\n",
      "First name variable is of type <class 'str'>\n",
      "Last name variable is of type <class 'str'>\n",
      "My name variable is of type <class 'str'>\n",
      "Happiness rating variable is of type <class 'float'>\n"
     ]
    }
   ],
   "source": [
    "print('Ice cream rating variable is of type', type(ice_cream_rating))\n",
    "print('Sleeping rating variable is of type', type(sleeping_rating))\n",
    "print('First name variable is of type', type(first_name))\n",
    "print('Last name variable is of type', type(last_name))\n",
    "print('My name variable is of type', type(my_name))\n",
    "print('Happiness rating variable is of type', type(happiness_rating))"
   ]
  },
  {
   "cell_type": "markdown",
   "id": "a73f0854-db7d-4fbd-b25e-1506c75113a4",
   "metadata": {},
   "source": [
    "- Ice cream rating is of type *int*\n",
    "- Sleeping rating is of type *int*\n",
    "- First name is of type *str*\n",
    "- Last name is of type*str*\n",
    "- My name is of type *str*\n",
    "- Happiness is of type *float*"
   ]
  },
  {
   "cell_type": "code",
   "execution_count": 14,
   "id": "936ad8ff-2972-4913-9b2c-53f991130cbd",
   "metadata": {},
   "outputs": [
    {
     "name": "stdout",
     "output_type": "stream",
     "text": [
      "My name is Chara Block, and I give eating ice cream a score of 8 out of 10! I am Chara Block and my sleeping enjoyment rating is 7 / 10! Based on the factors above, my happiness rating is 7.5 out of 10, or 75.0 %!\n"
     ]
    }
   ],
   "source": [
    "print(f\"My name is { my_name }, and I give eating ice cream a score of { ice_cream_rating } out of 10! \\\n",
    "I am { first_name } { last_name } and my sleeping enjoyment rating is { sleeping_rating } / 10! \\\n",
    "Based on the factors above, my happiness rating is { happiness_rating } out of 10, or { happiness_rating * 10 } %!\")"
   ]
  },
  {
   "cell_type": "code",
   "execution_count": 15,
   "id": "ab9f3933-d1f2-43eb-b9d7-6f2bf3220b0d",
   "metadata": {},
   "outputs": [
    {
     "name": "stdout",
     "output_type": "stream",
     "text": [
      "My name is Chara Block, and I give eating ice cream a score of 8 out of 10! I am Chara Block and my sleeping enjoyment rating is 7 / 10! Based on the factors above, my happiness rating is 7.5 out of 10, or 75.0 %!\n"
     ]
    }
   ],
   "source": [
    "print(\"My name is \" + my_name + \", and I give eating ice cream a score of \" + str(ice_cream_rating) + \" out of 10! \\\n",
    "I am \" + first_name + \" \" + last_name + \" and my sleeping enjoyment rating is \" + str(sleeping_rating) + \" / 10! \\\n",
    "Based on the factors above, my happiness rating is \" + str(happiness_rating) + \" out of 10, or \" + str(happiness_rating * 10) + \" %!\")"
   ]
  },
  {
   "cell_type": "code",
   "execution_count": null,
   "id": "14fa205a-5f1a-4262-89dd-88b8e2f3a21b",
   "metadata": {},
   "outputs": [],
   "source": []
  }
 ],
 "metadata": {
  "kernelspec": {
   "display_name": "Python 3 (ipykernel)",
   "language": "python",
   "name": "python3"
  },
  "language_info": {
   "codemirror_mode": {
    "name": "ipython",
    "version": 3
   },
   "file_extension": ".py",
   "mimetype": "text/x-python",
   "name": "python",
   "nbconvert_exporter": "python",
   "pygments_lexer": "ipython3",
   "version": "3.12.3"
  }
 },
 "nbformat": 4,
 "nbformat_minor": 5
}
